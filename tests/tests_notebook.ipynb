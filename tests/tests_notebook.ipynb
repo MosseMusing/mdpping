{
 "cells": [
  {
   "cell_type": "code",
   "execution_count": 1,
   "metadata": {},
   "outputs": [],
   "source": [
    "from tqdm.notebook import tqdm"
   ]
  },
  {
   "cell_type": "code",
   "execution_count": 2,
   "metadata": {},
   "outputs": [
    {
     "name": "stdout",
     "output_type": "stream",
     "text": [
      "Help on function display in module tqdm.notebook:\n",
      "\n",
      "display(self, msg=None, pos=None, close=False, bar_style=None)\n",
      "    Use `self.sp` to display `msg` in the specified `pos`.\n",
      "    \n",
      "    Consider overloading this function when inheriting to use e.g.:\n",
      "    `self.some_frontend(**self.format_dict)` instead of `self.sp`.\n",
      "    \n",
      "    Parameters\n",
      "    ----------\n",
      "    msg  : str, optional. What to display (default: `repr(self)`).\n",
      "    pos  : int, optional. Position to `moveto`\n",
      "      (default: `abs(self.pos)`).\n",
      "\n"
     ]
    }
   ],
   "source": [
    "help(tqdm.display)"
   ]
  }
 ],
 "metadata": {
  "kernelspec": {
   "display_name": "Python [conda env:tqdm]",
   "language": "python",
   "name": "conda-env-tqdm-py"
  },
  "language_info": {
   "codemirror_mode": {
    "name": "ipython"
   },
   "file_extension": ".py",
   "mimetype": "text/x-python",
   "name": "python",
   "nbconvert_exporter": "python"
  }
 },
 "nbformat": 4,
 "nbformat_minor": 2
}
